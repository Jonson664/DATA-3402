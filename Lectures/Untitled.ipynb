{
 "cells": [
  {
   "cell_type": "markdown",
   "id": "47d0fb92",
   "metadata": {},
   "source": [
    "## Lecture 4"
   ]
  },
  {
   "cell_type": "code",
   "execution_count": 2,
   "id": "bfe1af02",
   "metadata": {},
   "outputs": [
    {
     "name": "stdout",
     "output_type": "stream",
     "text": [
      "a\n",
      "b\n",
      "c\n"
     ]
    }
   ],
   "source": [
    "lst = ['a','b','c']\n",
    "for item in lst:\n",
    "    print(item)"
   ]
  },
  {
   "cell_type": "code",
   "execution_count": 3,
   "id": "9695b78b",
   "metadata": {},
   "outputs": [
    {
     "data": {
      "text/plain": [
       "[(0, 'a'), (1, 'b'), (2, 'c')]"
      ]
     },
     "execution_count": 3,
     "metadata": {},
     "output_type": "execute_result"
    }
   ],
   "source": [
    "list(enumerate(lst)) # tuple of index of list and index value"
   ]
  },
  {
   "cell_type": "code",
   "execution_count": 4,
   "id": "a8889185",
   "metadata": {},
   "outputs": [
    {
     "name": "stdout",
     "output_type": "stream",
     "text": [
      "0 a\n",
      "1 b\n",
      "2 c\n"
     ]
    }
   ],
   "source": [
    "for index,item in enumerate(lst):\n",
    "    print(index,item)"
   ]
  },
  {
   "cell_type": "code",
   "execution_count": 5,
   "id": "11e85a8d",
   "metadata": {},
   "outputs": [],
   "source": [
    "# iterate over multiple lists"
   ]
  },
  {
   "cell_type": "code",
   "execution_count": 6,
   "id": "eb653b64",
   "metadata": {},
   "outputs": [
    {
     "name": "stdout",
     "output_type": "stream",
     "text": [
      "a A\n",
      "b B\n",
      "c C\n"
     ]
    }
   ],
   "source": [
    "lst1= ['a','b','c']\n",
    "lst2 = ['A','B','C']\n",
    "\n",
    "for item1,item2 in zip(lst1,lst2):\n",
    "    print(item1,item2)"
   ]
  },
  {
   "cell_type": "code",
   "execution_count": 8,
   "id": "8899ec92",
   "metadata": {},
   "outputs": [
    {
     "data": {
      "text/plain": [
       "[('a', 'A'), ('b', 'B'), ('c', 'C')]"
      ]
     },
     "execution_count": 8,
     "metadata": {},
     "output_type": "execute_result"
    }
   ],
   "source": [
    "list(zip(lst1,lst2))"
   ]
  },
  {
   "cell_type": "code",
   "execution_count": 9,
   "id": "9ccf3a14",
   "metadata": {},
   "outputs": [],
   "source": [
    "def count_odds(lst):\n",
    "    my_count = 0\n",
    "    \n",
    "    for num in lst:\n",
    "        if num%2==1:\n",
    "            my_count+=1\n",
    "    return my_count"
   ]
  },
  {
   "cell_type": "code",
   "execution_count": 11,
   "id": "d7d0a60d",
   "metadata": {},
   "outputs": [
    {
     "data": {
      "text/plain": [
       "5"
      ]
     },
     "execution_count": 11,
     "metadata": {},
     "output_type": "execute_result"
    }
   ],
   "source": [
    "count_odds([1,2,3,4,6,7,9,13])"
   ]
  },
  {
   "cell_type": "code",
   "execution_count": 12,
   "id": "958a9093",
   "metadata": {},
   "outputs": [
    {
     "ename": "SyntaxError",
     "evalue": "expected ':' (474359754.py, line 4)",
     "output_type": "error",
     "traceback": [
      "\u001b[0;36m  Input \u001b[0;32mIn [12]\u001b[0;36m\u001b[0m\n\u001b[0;31m    for num in lst\u001b[0m\n\u001b[0m                   ^\u001b[0m\n\u001b[0;31mSyntaxError\u001b[0m\u001b[0;31m:\u001b[0m expected ':'\n"
     ]
    }
   ],
   "source": [
    "def filter_odds(lst):\n",
    "    out_list = list()\n",
    "    \n",
    "    for num in lst "
   ]
  },
  {
   "cell_type": "code",
   "execution_count": 13,
   "id": "af8614e6",
   "metadata": {},
   "outputs": [],
   "source": [
    "def mul_lists(a,b):\n",
    "    if len(a)!=len(b):\n",
    "        print()\n",
    "        return None\n",
    "    else:\n",
    "        out = list()"
   ]
  },
  {
   "cell_type": "code",
   "execution_count": null,
   "id": "a125615a",
   "metadata": {},
   "outputs": [],
   "source": []
  },
  {
   "cell_type": "code",
   "execution_count": 16,
   "id": "f3caeb82",
   "metadata": {},
   "outputs": [],
   "source": [
    "def odd(num):\n",
    "    return num%2==1\n",
    "def filter_fun(lst,func):\n",
    "    out_list = list()\n",
    "    \n",
    "    for num in lst:\n",
    "        if func(num):\n",
    "            out_list.append(num)\n",
    "    return out_list"
   ]
  },
  {
   "cell_type": "code",
   "execution_count": 17,
   "id": "78706683",
   "metadata": {},
   "outputs": [
    {
     "data": {
      "text/plain": [
       "[1, 7, 9]"
      ]
     },
     "execution_count": 17,
     "metadata": {},
     "output_type": "execute_result"
    }
   ],
   "source": [
    "filter_fun([1,2,4,6,7,9],odd)"
   ]
  },
  {
   "cell_type": "code",
   "execution_count": null,
   "id": "0aae1fa0",
   "metadata": {},
   "outputs": [],
   "source": []
  },
  {
   "cell_type": "code",
   "execution_count": null,
   "id": "c2924146",
   "metadata": {},
   "outputs": [],
   "source": []
  },
  {
   "cell_type": "code",
   "execution_count": null,
   "id": "0592140c",
   "metadata": {},
   "outputs": [],
   "source": []
  },
  {
   "cell_type": "code",
   "execution_count": 18,
   "id": "70da1370",
   "metadata": {},
   "outputs": [],
   "source": [
    "square = lambda x: x * x"
   ]
  },
  {
   "cell_type": "code",
   "execution_count": 19,
   "id": "4884d631",
   "metadata": {},
   "outputs": [
    {
     "data": {
      "text/plain": [
       "64"
      ]
     },
     "execution_count": 19,
     "metadata": {},
     "output_type": "execute_result"
    }
   ],
   "source": [
    "square(8)"
   ]
  },
  {
   "cell_type": "code",
   "execution_count": 23,
   "id": "574663a8",
   "metadata": {},
   "outputs": [
    {
     "ename": "NameError",
     "evalue": "name 'my_map' is not defined",
     "output_type": "error",
     "traceback": [
      "\u001b[0;31m---------------------------------------------------------------------------\u001b[0m",
      "\u001b[0;31mNameError\u001b[0m                                 Traceback (most recent call last)",
      "Input \u001b[0;32mIn [23]\u001b[0m, in \u001b[0;36m<module>\u001b[0;34m\u001b[0m\n\u001b[1;32m      1\u001b[0m lst3 \u001b[38;5;241m=\u001b[39m [\u001b[38;5;241m1\u001b[39m,\u001b[38;5;241m2\u001b[39m,\u001b[38;5;241m3\u001b[39m,\u001b[38;5;241m4\u001b[39m,\u001b[38;5;241m5\u001b[39m,\u001b[38;5;241m6\u001b[39m,\u001b[38;5;241m7\u001b[39m,\u001b[38;5;241m8\u001b[39m,\u001b[38;5;241m9\u001b[39m]\n\u001b[0;32m----> 2\u001b[0m eg \u001b[38;5;241m=\u001b[39m \u001b[43mmy_map\u001b[49m(\u001b[38;5;28;01mlambda\u001b[39;00m x:x\u001b[38;5;241m+\u001b[39m\u001b[38;5;241m2\u001b[39m, lst3)\n\u001b[1;32m      3\u001b[0m \u001b[38;5;28mprint\u001b[39m (eg)\n",
      "\u001b[0;31mNameError\u001b[0m: name 'my_map' is not defined"
     ]
    }
   ],
   "source": [
    "lst3 = [1,2,3,4,5,6,7,8,9]\n",
    "eg = my_map(lambda x:x+2, lst3)\n",
    "print (eg)"
   ]
  },
  {
   "cell_type": "code",
   "execution_count": null,
   "id": "74504793",
   "metadata": {},
   "outputs": [],
   "source": []
  }
 ],
 "metadata": {
  "kernelspec": {
   "display_name": "Python 3 (ipykernel)",
   "language": "python",
   "name": "python3"
  },
  "language_info": {
   "codemirror_mode": {
    "name": "ipython",
    "version": 3
   },
   "file_extension": ".py",
   "mimetype": "text/x-python",
   "name": "python",
   "nbconvert_exporter": "python",
   "pygments_lexer": "ipython3",
   "version": "3.10.2"
  }
 },
 "nbformat": 4,
 "nbformat_minor": 5
}
