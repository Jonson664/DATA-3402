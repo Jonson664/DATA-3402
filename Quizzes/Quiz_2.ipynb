{
 "cells": [
  {
   "cell_type": "code",
   "execution_count": 45,
   "id": "66a71ab4",
   "metadata": {},
   "outputs": [],
   "source": [
    "def make_deck():\n",
    "    values = [2,3,4,5,6,7,8,9,10,'Jack','Queen','King','Ace']\n",
    "    suits = ['Hearts','Spades','Clubs',\"Diamonds\"]\n",
    "    deck = []\n",
    "    \n",
    "    for i in values:\n",
    "        for j in suits:\n",
    "            deck.append((i,j))\n",
    "    return deck"
   ]
  },
  {
   "cell_type": "code",
   "execution_count": 46,
   "id": "9672c7ab",
   "metadata": {},
   "outputs": [
    {
     "data": {
      "text/plain": [
       "[(2, 'Hearts'),\n",
       " (2, 'Spades'),\n",
       " (2, 'Clubs'),\n",
       " (2, 'Diamonds'),\n",
       " (3, 'Hearts'),\n",
       " (3, 'Spades'),\n",
       " (3, 'Clubs'),\n",
       " (3, 'Diamonds'),\n",
       " (4, 'Hearts'),\n",
       " (4, 'Spades'),\n",
       " (4, 'Clubs'),\n",
       " (4, 'Diamonds'),\n",
       " (5, 'Hearts'),\n",
       " (5, 'Spades'),\n",
       " (5, 'Clubs'),\n",
       " (5, 'Diamonds'),\n",
       " (6, 'Hearts'),\n",
       " (6, 'Spades'),\n",
       " (6, 'Clubs'),\n",
       " (6, 'Diamonds'),\n",
       " (7, 'Hearts'),\n",
       " (7, 'Spades'),\n",
       " (7, 'Clubs'),\n",
       " (7, 'Diamonds'),\n",
       " (8, 'Hearts'),\n",
       " (8, 'Spades'),\n",
       " (8, 'Clubs'),\n",
       " (8, 'Diamonds'),\n",
       " (9, 'Hearts'),\n",
       " (9, 'Spades'),\n",
       " (9, 'Clubs'),\n",
       " (9, 'Diamonds'),\n",
       " (10, 'Hearts'),\n",
       " (10, 'Spades'),\n",
       " (10, 'Clubs'),\n",
       " (10, 'Diamonds'),\n",
       " ('Jack', 'Hearts'),\n",
       " ('Jack', 'Spades'),\n",
       " ('Jack', 'Clubs'),\n",
       " ('Jack', 'Diamonds'),\n",
       " ('Queen', 'Hearts'),\n",
       " ('Queen', 'Spades'),\n",
       " ('Queen', 'Clubs'),\n",
       " ('Queen', 'Diamonds'),\n",
       " ('King', 'Hearts'),\n",
       " ('King', 'Spades'),\n",
       " ('King', 'Clubs'),\n",
       " ('King', 'Diamonds'),\n",
       " ('Ace', 'Hearts'),\n",
       " ('Ace', 'Spades'),\n",
       " ('Ace', 'Clubs'),\n",
       " ('Ace', 'Diamonds')]"
      ]
     },
     "execution_count": 46,
     "metadata": {},
     "output_type": "execute_result"
    }
   ],
   "source": [
    "make_deck()"
   ]
  },
  {
   "cell_type": "code",
   "execution_count": null,
   "id": "778b2301",
   "metadata": {},
   "outputs": [],
   "source": [
    "def make_deck():\n",
    "    values = [2,3,4,5,6,7,8,9,10,'Jack','Queen','King','Ace']\n",
    "    suits = ['Hearts','Spades','Clubs',\"Diamonds\"]\n",
    "    deck = list()\n",
    "    \n",
    "    for suits in suits:\n",
    "        for values in values:\n",
    "            deck.append((suits,values))\n",
    "    return deck"
   ]
  }
 ],
 "metadata": {
  "kernelspec": {
   "display_name": "Python 3 (ipykernel)",
   "language": "python",
   "name": "python3"
  },
  "language_info": {
   "codemirror_mode": {
    "name": "ipython",
    "version": 3
   },
   "file_extension": ".py",
   "mimetype": "text/x-python",
   "name": "python",
   "nbconvert_exporter": "python",
   "pygments_lexer": "ipython3",
   "version": "3.10.2"
  }
 },
 "nbformat": 4,
 "nbformat_minor": 5
}
