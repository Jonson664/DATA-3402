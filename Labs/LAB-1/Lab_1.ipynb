{
 "cells": [
  {
   "cell_type": "markdown",
   "id": "ff5f1df4",
   "metadata": {},
   "source": [
    "Exercise 1"
   ]
  },
  {
   "cell_type": "code",
   "execution_count": 104,
   "id": "9800eb4c",
   "metadata": {},
   "outputs": [],
   "source": [
    "player_1 = 1\n",
    "player_2 = 2\n",
    "empty = 0\n",
    "\n",
    "player_1_piece = \"X\"\n",
    "player_2_piece = \"O\"\n",
    "empty_space = \" \"\n",
    "\n",
    "space_character = {player_1: player_1_piece,\n",
    "                  player_2: player_2_piece,\n",
    "                  empty: empty_space}\n",
    "def make_game_board(num_rows,num_cols):\n",
    "    #num_rows = int(input(\"Enter number of rows\"))\n",
    "    #num_cols = int(input(\"Enter number of columns\"))\n",
    "    \n",
    "    board = [[empty]*num_cols for i in range(num_rows)]\n",
    "    \n",
    "    return board"
   ]
  },
  {
   "cell_type": "code",
   "execution_count": 126,
   "id": "432e45ea",
   "metadata": {},
   "outputs": [
    {
     "data": {
      "text/plain": [
       "[[0, 0, 0], [0, 0, 0], [0, 0, 0]]"
      ]
     },
     "execution_count": 126,
     "metadata": {},
     "output_type": "execute_result"
    }
   ],
   "source": [
    "make_game_board(3,3)"
   ]
  },
  {
   "cell_type": "markdown",
   "id": "552ce179",
   "metadata": {},
   "source": [
    "Exercise 2"
   ]
  },
  {
   "cell_type": "code",
   "execution_count": 123,
   "id": "1d9f1887",
   "metadata": {},
   "outputs": [],
   "source": [
    "def draw_board(board):\n",
    "    \n",
    "    def make_game_board(num_rows,num_cols):\n",
    "        #num_rows = int(input(\"Enter number of rows\"))\n",
    "        #num_cols = int(input(\"Enter number of columns\"))\n",
    "    \n",
    "        board = [[empty]*num_cols for i in range(num_rows)]\n",
    "    \n",
    "        return board\n",
    "\n",
    "    num_rows = len(board)\n",
    "    num_cols = len(board[0])\n",
    "      \n",
    "    print(\"   \",end=\" \")\n",
    "    for i in range(num_cols):\n",
    "        #print(column_names[i],end=\" \")\n",
    "        print(\" \",end = \" \")\n",
    "    \n",
    "    print()\n",
    "    print(\"  \",end=\" \")\n",
    "    print(\"--- \"*num_cols)\n",
    "    for i in range(num_rows):\n",
    "        #print(row_names[i],end=\" \")\n",
    "        print(\"  |\",end=\" \")\n",
    "        for j in range(num_cols):\n",
    "            print(space_character[board[i][j]],end=\" \")\n",
    "            print(\"|\",end=\" \")\n",
    "        print()  \n",
    "        print(\"  \",end=\" \")\n",
    "        print(\"--- \"*num_cols)\n",
    "\n",
    "\n"
   ]
  },
  {
   "cell_type": "code",
   "execution_count": 125,
   "id": "9f9fd384",
   "metadata": {},
   "outputs": [
    {
     "name": "stdout",
     "output_type": "stream",
     "text": [
      "                    \n",
      "   --- --- --- --- --- --- --- --- \n",
      "  |   |   |   |   |   |   |   |   | \n",
      "   --- --- --- --- --- --- --- --- \n",
      "  |   |   |   |   |   |   |   |   | \n",
      "   --- --- --- --- --- --- --- --- \n",
      "  |   |   |   |   |   |   |   |   | \n",
      "   --- --- --- --- --- --- --- --- \n"
     ]
    }
   ],
   "source": [
    "board2 = make_game_board(3,8)\n",
    "draw_board(board2)"
   ]
  },
  {
   "cell_type": "code",
   "execution_count": null,
   "id": "fd8a6cfa",
   "metadata": {},
   "outputs": [],
   "source": []
  },
  {
   "cell_type": "markdown",
   "id": "f2052f0f",
   "metadata": {},
   "source": [
    "Exercise 3"
   ]
  },
  {
   "cell_type": "code",
   "execution_count": 241,
   "id": "79555bf8",
   "metadata": {},
   "outputs": [],
   "source": [
    "def make_board(board):\n",
    "    num_rows = size_r     #len(board)\n",
    "    num_cols = size_c        #len(board[0])\n",
    "      \n",
    "    print(\" ---\"*num_cols)\n",
    "    for i in range(num_rows):\n",
    "        print(\"|\",end=\" \")\n",
    "        for j in range(num_cols):\n",
    "            print(space_character[board[i][j]],end=\" \")\n",
    "            print(\"|\",end=\" \")\n",
    "        print()  \n",
    "        print(\" ---\"*num_cols)"
   ]
  },
  {
   "cell_type": "code",
   "execution_count": 109,
   "id": "983ecbb7",
   "metadata": {},
   "outputs": [
    {
     "name": "stdout",
     "output_type": "stream",
     "text": [
      " --- --- ---\n",
      "|   |   |   | \n",
      " --- --- ---\n",
      "|   | X |   | \n",
      " --- --- ---\n",
      "| O | O |   | \n",
      " --- --- ---\n"
     ]
    }
   ],
   "source": [
    "board1 = [[0,0,0],[0,1,0],[2,2,0]]\n",
    "make_board(board1)"
   ]
  },
  {
   "cell_type": "markdown",
   "id": "e6b46cb5",
   "metadata": {},
   "source": [
    "Exercise 4"
   ]
  },
  {
   "cell_type": "code",
   "execution_count": null,
   "id": "8e074237",
   "metadata": {},
   "outputs": [],
   "source": [
    "def game_state(board):\n",
    "    def draw_board1(board):\n",
    "    \n",
    "        def make_game_board(num_rows,num_cols):\n",
    "            #num_rows = int(input(\"Enter number of rows\"))\n",
    "            #num_cols = int(input(\"Enter number of columns\"))\n",
    "    \n",
    "            board = [[empty]*num_cols for i in range(num_rows)]\n",
    "    \n",
    "            return board\n",
    "\n",
    "    num_rows = len(board)\n",
    "    num_cols = len(board[0])\n",
    "      \n",
    "    print(\"   \",end=\" \")\n",
    "    for i in range(num_cols):\n",
    "        #print(column_names[i],end=\" \")\n",
    "        print(\" \",end = \" \")\n",
    "    \n",
    "    print()\n",
    "    print(\"  \",end=\" \")\n",
    "    print(\"--- \"*num_cols)\n",
    "    for i in range(num_rows):\n",
    "        #print(row_names[i],end=\" \")\n",
    "        print(\"  |\",end=\" \")\n",
    "        for j in range(num_cols):\n",
    "            print(space_character[board[i][j]],end=\" \")\n",
    "            print(\"|\",end=\" \")\n",
    "        print()  \n",
    "        print(\"  \",end=\" \")\n",
    "        print(\"--- \"*num_cols)\n",
    "\n",
    "    def is_winner(lst):\n",
    "        if lst == [player_1]*len(lst):\n",
    "            return player_1\n",
    "        elif lst == [player_2]*len(lst):\n",
    "            return player_2\n",
    "        else:\n",
    "            return False\n",
    "    def row_winner():\n",
    "        for i in range(num_rows):\n",
    "            if board[i] == [player_1]*num_cols:\n",
    "                return player_1\n",
    "            if board[i] == [player_2]*num_cols:\n",
    "                return player_2\n",
    "        return False\n",
    "   \n",
    "    col_list = []\n",
    "    for i in range(num_cols):\n",
    "        col = []\n",
    "        for j in range(num_rows):\n",
    "            col.append(board[j][i])\n",
    "        col_list.append(col)\n",
    "        \n",
    "    def col_winner():\n",
    "        for i in range(num_cols):\n",
    "            if is_winner(col_list[i]) == player_1:\n",
    "                return player_1\n",
    "            if is_winner(col_list[i]) == player_2:\n",
    "                return player_2\n",
    "        return False\n",
    "    diag = []\n",
    "    anti_diag = []\n",
    "    for j in range(num_rows):\n",
    "        diag.append(board[j][j])\n",
    "        anti_diag.append(board[j][num_cols-j-1])\n",
    "    diag_list = [diag, anti_diag]\n",
    "    \n",
    "    def diag_winner():\n",
    "        for i in range(2):\n",
    "            if is_winner(diag_list[i]) == player_1:\n",
    "                return player_1\n",
    "            if is_winner(diag_list[i]) == player_2:\n",
    "                return player_2\n",
    "        return False\n",
    "    \n",
    "    def is_full():\n",
    "        n = 0\n",
    "        for i in range(num_rows):\n",
    "            for j in range(num_cols):\n",
    "                if board[i][j] != empty:\n",
    "                    n+=1\n",
    "        if n==(num_rows*num_cols):\n",
    "            return True\n",
    "        else:\n",
    "            return False\n",
    "        \n",
    "    def winner():\n",
    "        row_state = row_winner()\n",
    "        col_state = col_winner()\n",
    "        diag_state = diag_winner()\n",
    "        if row_state:\n",
    "            return row_state\n",
    "        elif col_state:\n",
    "            return col_state\n",
    "        elif diag_winner():\n",
    "            return diag_state\n",
    "        else:\n",
    "            return False\n",
    "    \n",
    "    if winner():\n",
    "        return winner()\n",
    "    elif is_full():\n",
    "        return 0\n",
    "    else:\n",
    "        return -1"
   ]
  },
  {
   "cell_type": "code",
   "execution_count": null,
   "id": "10fc4d89",
   "metadata": {},
   "outputs": [],
   "source": [
    "winner_is_2 = [[2, 2, 0],[2, 1, 0],[2, 1, 1]]\n",
    "\n",
    "winner_is_1 = [[1, 2, 0],[2, 1, 0],[2, 1, 1]]\n",
    "\n",
    "winner_is_also_1 = [[0, 1, 0],[2, 1, 0],[2, 1, 1]]\n",
    "\n",
    "no_winner = [[1, 2, 0],[2, 1, 0],[2, 1, 2]]\n",
    "\n",
    "also_no_winner = [[1, 2, 0],[2, 1, 0],[2, 1, 0]]"
   ]
  },
  {
   "cell_type": "code",
   "execution_count": 129,
   "id": "032fe5e1",
   "metadata": {},
   "outputs": [
    {
     "name": "stdout",
     "output_type": "stream",
     "text": [
      "          \n",
      "   --- --- --- \n",
      "  | O | O |   | \n",
      "   --- --- --- \n",
      "  | O | X |   | \n",
      "   --- --- --- \n",
      "  | O | X | X | \n",
      "   --- --- --- \n"
     ]
    },
    {
     "data": {
      "text/plain": [
       "2"
      ]
     },
     "execution_count": 129,
     "metadata": {},
     "output_type": "execute_result"
    }
   ],
   "source": [
    "game_state(winner_is_2)"
   ]
  },
  {
   "cell_type": "code",
   "execution_count": 130,
   "id": "d18d7d6f",
   "metadata": {},
   "outputs": [
    {
     "name": "stdout",
     "output_type": "stream",
     "text": [
      "          \n",
      "   --- --- --- \n",
      "  | X | O |   | \n",
      "   --- --- --- \n",
      "  | O | X |   | \n",
      "   --- --- --- \n",
      "  | O | X | X | \n",
      "   --- --- --- \n"
     ]
    },
    {
     "data": {
      "text/plain": [
       "1"
      ]
     },
     "execution_count": 130,
     "metadata": {},
     "output_type": "execute_result"
    }
   ],
   "source": [
    "game_state(winner_is_1)"
   ]
  },
  {
   "cell_type": "code",
   "execution_count": 131,
   "id": "caf23974",
   "metadata": {},
   "outputs": [
    {
     "name": "stdout",
     "output_type": "stream",
     "text": [
      "          \n",
      "   --- --- --- \n",
      "  |   | X |   | \n",
      "   --- --- --- \n",
      "  | O | X |   | \n",
      "   --- --- --- \n",
      "  | O | X | X | \n",
      "   --- --- --- \n"
     ]
    },
    {
     "data": {
      "text/plain": [
       "1"
      ]
     },
     "execution_count": 131,
     "metadata": {},
     "output_type": "execute_result"
    }
   ],
   "source": [
    "game_state(winner_is_also_1)"
   ]
  },
  {
   "cell_type": "code",
   "execution_count": 132,
   "id": "d1439177",
   "metadata": {},
   "outputs": [
    {
     "name": "stdout",
     "output_type": "stream",
     "text": [
      "          \n",
      "   --- --- --- \n",
      "  | X | O |   | \n",
      "   --- --- --- \n",
      "  | O | X |   | \n",
      "   --- --- --- \n",
      "  | O | X | O | \n",
      "   --- --- --- \n"
     ]
    },
    {
     "data": {
      "text/plain": [
       "-1"
      ]
     },
     "execution_count": 132,
     "metadata": {},
     "output_type": "execute_result"
    }
   ],
   "source": [
    "game_state(no_winner)"
   ]
  },
  {
   "cell_type": "code",
   "execution_count": 133,
   "id": "3ff67923",
   "metadata": {},
   "outputs": [
    {
     "name": "stdout",
     "output_type": "stream",
     "text": [
      "          \n",
      "   --- --- --- \n",
      "  | X | O |   | \n",
      "   --- --- --- \n",
      "  | O | X |   | \n",
      "   --- --- --- \n",
      "  | O | X |   | \n",
      "   --- --- --- \n"
     ]
    },
    {
     "data": {
      "text/plain": [
       "-1"
      ]
     },
     "execution_count": 133,
     "metadata": {},
     "output_type": "execute_result"
    }
   ],
   "source": [
    "game_state(also_no_winner)"
   ]
  },
  {
   "cell_type": "markdown",
   "id": "bf85077e",
   "metadata": {},
   "source": [
    "Exercise 5"
   ]
  },
  {
   "cell_type": "code",
   "execution_count": null,
   "id": "9fb85278",
   "metadata": {},
   "outputs": [],
   "source": [
    "def make_move(board,player,location,verbose=True):\n",
    "    x,y = location\n",
    "    # Check if space is empty\n",
    "    if board[x][y] != empty:\n",
    "        print_message(\"Invalid move: space is not empty\")\n",
    "        return False\n",
    "    else:\n",
    "        # Place player piece there\n",
    "        board[x][y] = player\n",
    "        return True"
   ]
  },
  {
   "cell_type": "markdown",
   "id": "c037b385",
   "metadata": {},
   "source": [
    "Exercise 6"
   ]
  },
  {
   "cell_type": "code",
   "execution_count": 246,
   "id": "2936ea0f",
   "metadata": {},
   "outputs": [],
   "source": [
    "def game_state(board):\n",
    "    def draw_board1(board):\n",
    "    \n",
    "        def make_game_board(num_rows,num_cols):\n",
    "            #num_rows = int(input(\"Enter number of rows\"))\n",
    "            #num_cols = int(input(\"Enter number of columns\"))\n",
    "            board = [[empty]*num_cols for i in range(num_rows)]\n",
    "    \n",
    "            global row_names, row_map, column_names, column_map\n",
    "            row_names = list(\"ABCDEFGHIJKLMNOPQRSTUVWXYZ\")\n",
    "            row_map = dict(zip(row_names,range(num_rows)))\n",
    "\n",
    "            column_names = list(map(str,range(1,num_cols+1)))\n",
    "            column_map = dict(zip(column_names,range(num_cols)))\n",
    "    \n",
    "            return board\n",
    "\n",
    "    num_rows = len(board)\n",
    "    num_cols = len(board[0])\n",
    "    #num_rows = int(input(\"Enter the number of rows\"))\n",
    "    #num_cols = int(input(\"Enter the number of columns\"))\n",
    "    \n",
    "    \n",
    "    print(\"   \",end=\" \")\n",
    "    for i in range(num_cols):\n",
    "        #print(column_names[i],end=\" \")\n",
    "        print(\" \",end = \" \")\n",
    "    \n",
    "    print()\n",
    "    print(\"  \",end=\" \")\n",
    "    print(\"--- \"*num_cols)\n",
    "    for i in range(num_rows):\n",
    "        #print(row_names[i],end=\" \")\n",
    "        print(\"  |\",end=\" \")\n",
    "        for j in range(num_cols):\n",
    "            print(space_character[board[i][j]],end=\" \")\n",
    "            print(\"|\",end=\" \")\n",
    "        print()  \n",
    "        print(\"  \",end=\" \")\n",
    "        print(\"--- \"*num_cols)\n",
    "\n",
    "    def is_winner(lst):\n",
    "        if lst == [player_1]*len(lst):\n",
    "            return player_1\n",
    "        elif lst == [player_2]*len(lst):\n",
    "            return player_2\n",
    "        else:\n",
    "            return False\n",
    "    def row_winner():\n",
    "        for i in range(num_rows):\n",
    "            if board[i] == [player_1]*num_cols:\n",
    "                return player_1\n",
    "            if board[i] == [player_2]*num_cols:\n",
    "                return player_2\n",
    "        return False\n",
    "   \n",
    "    col_list = []\n",
    "    for i in range(num_cols):\n",
    "        col = []\n",
    "        for j in range(num_rows):\n",
    "            col.append(board[j][i])\n",
    "        col_list.append(col)\n",
    "        \n",
    "    def col_winner():\n",
    "        for i in range(num_cols):\n",
    "            if is_winner(col_list[i]) == player_1:\n",
    "                return player_1\n",
    "            if is_winner(col_list[i]) == player_2:\n",
    "                return player_2\n",
    "        return False\n",
    "    diag = []\n",
    "    anti_diag = []\n",
    "    for j in range(num_rows):\n",
    "        diag.append(board[j][j])\n",
    "        anti_diag.append(board[j][num_cols-j-1])\n",
    "    diag_list = [diag, anti_diag]\n",
    "    \n",
    "    def diag_winner():\n",
    "        for i in range(2):\n",
    "            if is_winner(diag_list[i]) == player_1:\n",
    "                return player_1\n",
    "            if is_winner(diag_list[i]) == player_2:\n",
    "                return player_2\n",
    "        return False\n",
    "    \n",
    "    def is_full():\n",
    "        n = 0\n",
    "        for i in range(num_rows):\n",
    "            for j in range(num_cols):\n",
    "                if board[i][j] != empty:\n",
    "                    n+=1\n",
    "        if n==(num_rows*num_cols):\n",
    "            return True\n",
    "        else:\n",
    "            return False\n",
    "        \n",
    "    def winner():\n",
    "        row_state = row_winner()\n",
    "        col_state = col_winner()\n",
    "        diag_state = diag_winner()\n",
    "        if row_state:\n",
    "            return row_state\n",
    "        elif col_state:\n",
    "            return col_state\n",
    "        elif diag_winner():\n",
    "            return diag_state\n",
    "        else:\n",
    "            return False\n",
    "    \n",
    "    if winner():\n",
    "        return winner()\n",
    "    elif is_full():\n",
    "        return 0\n",
    "    else:\n",
    "        return -1"
   ]
  },
  {
   "cell_type": "code",
   "execution_count": null,
   "id": "fd4f24b1",
   "metadata": {},
   "outputs": [],
   "source": [
    "size =3\n",
    "def draw_board1(board):\n",
    "    row_names = list(\"ABCDEFGHIJKLMNOPQRSTUVWXYZ\")\n",
    "    row_map = dict(zip(row_names,range(size)))\n",
    "    col_names = list(map(str,range(1,size+1)))\n",
    "    col_map = dict(zip(col_names,range(size)))\n",
    "    \n",
    "    num_rows = len(board)\n",
    "    num_cols = len(board[0])\n",
    "    \n",
    "    print(\"  \", end = \"  \")\n",
    "    for i in range(size):\n",
    "        print(col_names[i], end = \"   \")\n",
    "    print(\" \")\n",
    "    \n",
    "    print(\"  ---\"*num_cols)\n",
    "    for i in range(size):\n",
    "        print(row_names[i], end = \" \")\n",
    "        print(\"| \",end=\"\")\n",
    "        for j in range(size):\n",
    "            print(space_character[board[i][j]], end = \" \")\n",
    "            print(\"|\",end=\" \")\n",
    "        print()\n",
    "        print(\"  ---\"*num_cols)"
   ]
  },
  {
   "cell_type": "code",
   "execution_count": 233,
   "id": "ad184cab",
   "metadata": {},
   "outputs": [
    {
     "name": "stdout",
     "output_type": "stream",
     "text": [
      "    1   2   3    \n",
      "  ---  ---  ---\n",
      "A |   |   |   | \n",
      "  ---  ---  ---\n",
      "B |   | X |   | \n",
      "  ---  ---  ---\n",
      "C | O | O |   | \n",
      "  ---  ---  ---\n"
     ]
    }
   ],
   "source": [
    "draw_board1(board1)"
   ]
  },
  {
   "cell_type": "markdown",
   "id": "d0b0aa04",
   "metadata": {},
   "source": [
    "Exercise 7"
   ]
  },
  {
   "cell_type": "code",
   "execution_count": 234,
   "id": "c4a24a16",
   "metadata": {},
   "outputs": [],
   "source": [
    "def parse_location(location_string):\n",
    "    if not isinstance(location_string,str):\n",
    "        print_message(\"Bad input. Location must be a string.\")\n",
    "        return False\n",
    "    \n",
    "    if len(location_string) != 2:\n",
    "        print_message(\"Bad input. Location must be 2 characters.\")\n",
    "        return False\n",
    "    \n",
    "    row = location_string[0].upper()\n",
    "    col = location_string[1].upper()\n",
    "    \n",
    "    if not row in row_names:\n",
    "        print_message(\"This is not an existing row.\")\n",
    "        return False\n",
    "    \n",
    "    if not col in column_names:\n",
    "        print_message(\"This is not an existing column.\")\n",
    "        return False\n",
    "    \n",
    "    return row_map[row],column_map[col]\n",
    "\n",
    "def valid_make_move(board,player,location):\n",
    "    loc = parse_location(location)\n",
    "    \n",
    "    if loc:\n",
    "        return make_move(board,player,loc)\n",
    "    else:\n",
    "        print_message(\"Invalid move.\")\n",
    "        return False"
   ]
  },
  {
   "cell_type": "code",
   "execution_count": null,
   "id": "e89d12b5",
   "metadata": {},
   "outputs": [],
   "source": []
  },
  {
   "cell_type": "code",
   "execution_count": null,
   "id": "9124e0e8",
   "metadata": {},
   "outputs": [],
   "source": []
  },
  {
   "cell_type": "markdown",
   "id": "deb10bb1",
   "metadata": {},
   "source": [
    "Exercise 8"
   ]
  },
  {
   "cell_type": "code",
   "execution_count": 235,
   "id": "99bffe8e",
   "metadata": {},
   "outputs": [],
   "source": [
    "\n",
    "def take_move(board,player):\n",
    "    good_move = False\n",
    "    \n",
    "    while not good_move:\n",
    "        location_string = input(\"Input location to place your piece:\")\n",
    "        if location_string==\"XX\":\n",
    "            good_move = \"end\"\n",
    "            return good_move\n",
    "        good_move = valid_make_move(board,player,location_string)"
   ]
  },
  {
   "cell_type": "code",
   "execution_count": null,
   "id": "b4e436be",
   "metadata": {},
   "outputs": [],
   "source": []
  },
  {
   "cell_type": "markdown",
   "id": "7c0babca",
   "metadata": {},
   "source": [
    "Exercise 9"
   ]
  },
  {
   "cell_type": "code",
   "execution_count": null,
   "id": "95c9deda",
   "metadata": {},
   "outputs": [],
   "source": [
    "def tictactoe_game():\n",
    "    print(\"Welcome to Tic-Tac-Toe!\")\n",
    "    print(\"--------------------\")\n",
    "    \n",
    "    size_r = int(input(\"Enter number of rows\"))\n",
    "    size_c = int(input(\"Enter number of columns\"))\n",
    "    board_0 = make_game_board(size_r,size_c)\n",
    "    \n",
    "    player = player_1\n",
    "    \n",
    "    this_game_state = -1\n",
    "    \n",
    "    while this_game_state==-1:\n",
    "        draw_board(board_0)\n",
    "        \n",
    "        print(\"Player\",player,\"move:\")\n",
    "        new_move = take_move(board_0,player)\n",
    "        \n",
    "        if new_move == \"end\":\n",
    "            print(\"Player has exited the game\")\n",
    "            break\n",
    "        this_game_state = game_state(board_0)\n",
    "        \n",
    "        if player==player_1:\n",
    "            player = player_2\n",
    "        else:\n",
    "            player = player_1\n",
    "         \n",
    "    if not new_move == \"end\":\n",
    "        draw_board1(board_0)\n",
    "        if this_game_state == 0:\n",
    "            print(\"The game is a draw\")\n",
    "        else:\n",
    "            print(\"Winner is player\",this_game_state)"
   ]
  },
  {
   "cell_type": "code",
   "execution_count": 247,
   "id": "98fc79e7",
   "metadata": {},
   "outputs": [
    {
     "name": "stdout",
     "output_type": "stream",
     "text": [
      "Welcome to Tic-Tac-Toe!\n",
      "--------------------\n",
      "Enter number of rows3\n",
      "Enter number of columns3\n",
      "    1   2   3     \n",
      "  ---  ---  ---\n",
      "A |   |   |   | \n",
      "  ---  ---  ---\n",
      "B |   |   |   | \n",
      "  ---  ---  ---\n",
      "C |   |   |   | \n",
      "  ---  ---  ---\n",
      "Player 1 move:\n",
      "Input location to place your piece:A1\n",
      "          \n",
      "   --- --- --- \n",
      "  | X |   |   | \n",
      "   --- --- --- \n",
      "  |   |   |   | \n",
      "   --- --- --- \n",
      "  |   |   |   | \n",
      "   --- --- --- \n",
      "    1   2   3     \n",
      "  ---  ---  ---\n",
      "A | X |   |   | \n",
      "  ---  ---  ---\n",
      "B |   |   |   | \n",
      "  ---  ---  ---\n",
      "C |   |   |   | \n",
      "  ---  ---  ---\n",
      "Player 2 move:\n",
      "Input location to place your piece:A2\n",
      "          \n",
      "   --- --- --- \n",
      "  | X | O |   | \n",
      "   --- --- --- \n",
      "  |   |   |   | \n",
      "   --- --- --- \n",
      "  |   |   |   | \n",
      "   --- --- --- \n",
      "    1   2   3     \n",
      "  ---  ---  ---\n",
      "A | X | O |   | \n",
      "  ---  ---  ---\n",
      "B |   |   |   | \n",
      "  ---  ---  ---\n",
      "C |   |   |   | \n",
      "  ---  ---  ---\n",
      "Player 1 move:\n",
      "Input location to place your piece:B1\n",
      "          \n",
      "   --- --- --- \n",
      "  | X | O |   | \n",
      "   --- --- --- \n",
      "  | X |   |   | \n",
      "   --- --- --- \n",
      "  |   |   |   | \n",
      "   --- --- --- \n",
      "    1   2   3     \n",
      "  ---  ---  ---\n",
      "A | X | O |   | \n",
      "  ---  ---  ---\n",
      "B | X |   |   | \n",
      "  ---  ---  ---\n",
      "C |   |   |   | \n",
      "  ---  ---  ---\n",
      "Player 2 move:\n",
      "Input location to place your piece:C3\n",
      "          \n",
      "   --- --- --- \n",
      "  | X | O |   | \n",
      "   --- --- --- \n",
      "  | X |   |   | \n",
      "   --- --- --- \n",
      "  |   |   | O | \n",
      "   --- --- --- \n",
      "    1   2   3     \n",
      "  ---  ---  ---\n",
      "A | X | O |   | \n",
      "  ---  ---  ---\n",
      "B | X |   |   | \n",
      "  ---  ---  ---\n",
      "C |   |   | O | \n",
      "  ---  ---  ---\n",
      "Player 1 move:\n",
      "Input location to place your piece:C1\n",
      "          \n",
      "   --- --- --- \n",
      "  | X | O |   | \n",
      "   --- --- --- \n",
      "  | X |   |   | \n",
      "   --- --- --- \n",
      "  | X |   | O | \n",
      "   --- --- --- \n",
      "    1   2   3     \n",
      "  ---  ---  ---\n",
      "A | X | O |   | \n",
      "  ---  ---  ---\n",
      "B | X |   |   | \n",
      "  ---  ---  ---\n",
      "C | X |   | O | \n",
      "  ---  ---  ---\n",
      "Winner is player 1\n"
     ]
    }
   ],
   "source": [
    "tictactoe_game()"
   ]
  },
  {
   "cell_type": "code",
   "execution_count": null,
   "id": "89feca40",
   "metadata": {},
   "outputs": [],
   "source": []
  }
 ],
 "metadata": {
  "kernelspec": {
   "display_name": "Python 3 (ipykernel)",
   "language": "python",
   "name": "python3"
  },
  "language_info": {
   "codemirror_mode": {
    "name": "ipython",
    "version": 3
   },
   "file_extension": ".py",
   "mimetype": "text/x-python",
   "name": "python",
   "nbconvert_exporter": "python",
   "pygments_lexer": "ipython3",
   "version": "3.10.2"
  }
 },
 "nbformat": 4,
 "nbformat_minor": 5
}
