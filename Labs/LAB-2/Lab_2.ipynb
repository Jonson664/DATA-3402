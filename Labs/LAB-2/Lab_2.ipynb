{
 "cells": [
  {
   "cell_type": "markdown",
   "id": "a097cdf6",
   "metadata": {},
   "source": [
    "Exercise 1"
   ]
  },
  {
   "cell_type": "code",
   "execution_count": 6,
   "id": "92b2e0e0",
   "metadata": {},
   "outputs": [
    {
     "name": "stdout",
     "output_type": "stream",
     "text": [
      "The Value of x is 0.16865210088464688\n"
     ]
    }
   ],
   "source": [
    "import random\n",
    "x=random.random()\n",
    "print(\"The Value of x is\", x)"
   ]
  },
  {
   "cell_type": "code",
   "execution_count": 100,
   "id": "65bf8621",
   "metadata": {},
   "outputs": [],
   "source": [
    "def generate_uniform(N,x_min,x_max):\n",
    "    out = []\n",
    "    unwanted = []\n",
    "\n",
    "    for i in range(N):\n",
    "        x=random.random()\n",
    "        if x >= x_min and x<= x_max:\n",
    "            out.append(x)\n",
    "        else:\n",
    "            unwanted.append(x)\n",
    "    \n",
    "    ### END SOLUTION\n",
    "    return out"
   ]
  },
  {
   "cell_type": "code",
   "execution_count": 101,
   "id": "ad07e4c5",
   "metadata": {},
   "outputs": [
    {
     "name": "stdout",
     "output_type": "stream",
     "text": [
      "[0.390271979844924, 0.7121737169602863, 0.2752178405434986, 0.3371290492857967, 0.04340228875612806, 0.9219322367914984, 0.0019312178169357264, 0.3131900000049702, 0.16199130393986516, 0.06334928899653736, 0.10083753325863376, 0.8889437011794618]\n"
     ]
    }
   ],
   "source": [
    "data=generate_uniform(12,-10,10)\n",
    "print(data)"
   ]
  },
  {
   "cell_type": "markdown",
   "id": "a9e9cc02",
   "metadata": {},
   "source": [
    "Exercise 2"
   ]
  },
  {
   "cell_type": "code",
   "execution_count": 9,
   "id": "0e413d62",
   "metadata": {},
   "outputs": [],
   "source": [
    "def mean(Data):\n",
    "    m=0.\n",
    "    \n",
    "    ### BEGIN SOLUTION\n",
    "\n",
    "    total = 0.\n",
    "    for i in range(len(Data)):\n",
    "        total += Data[i]\n",
    "    m = total/(len(Data))\n",
    "     \n",
    "    return m"
   ]
  },
  {
   "cell_type": "code",
   "execution_count": 11,
   "id": "142bc39c",
   "metadata": {},
   "outputs": [
    {
     "data": {
      "text/plain": [
       "13.89777777777778"
      ]
     },
     "execution_count": 11,
     "metadata": {},
     "output_type": "execute_result"
    }
   ],
   "source": [
    "Data = [1,2,3,4,6.6,7.8,90.5,3.4,6.78]\n",
    "mean(Data)"
   ]
  },
  {
   "cell_type": "code",
   "execution_count": 12,
   "id": "d6dae46f",
   "metadata": {},
   "outputs": [
    {
     "name": "stdout",
     "output_type": "stream",
     "text": [
      "Mean of Data: 13.89777777777778\n"
     ]
    }
   ],
   "source": [
    "print (\"Mean of Data:\", mean(Data))"
   ]
  },
  {
   "cell_type": "markdown",
   "id": "7ac3d9c2",
   "metadata": {},
   "source": [
    "Exercise 2b"
   ]
  },
  {
   "cell_type": "code",
   "execution_count": 10,
   "id": "ea6023bb",
   "metadata": {},
   "outputs": [],
   "source": [
    "def Variance(Data):\n",
    "    m=0.\n",
    "    v=0.\n",
    "    \n",
    "    total = 0.\n",
    "    for i in range(len(Data)):\n",
    "        total += Data[i]\n",
    "    m = total/(len(Data))\n",
    "    \n",
    "    calc_sum = 0.\n",
    "    for i in range(len(Data)):\n",
    "        calc_sum += ((Data[i]-m)**2)\n",
    "    v = calc_sum/(len(Data))\n",
    "    \n",
    "    return v\n",
    "    \n",
    "    "
   ]
  },
  {
   "cell_type": "code",
   "execution_count": 14,
   "id": "49fc36f4",
   "metadata": {},
   "outputs": [
    {
     "name": "stdout",
     "output_type": "stream",
     "text": [
      "Variance of Data: 738.2049283950619\n"
     ]
    }
   ],
   "source": [
    "Variance(Data)\n",
    "print (\"Variance of Data:\", Variance(Data))"
   ]
  },
  {
   "cell_type": "markdown",
   "id": "257e1c9d",
   "metadata": {},
   "source": [
    "Exercise 3"
   ]
  },
  {
   "cell_type": "code",
   "execution_count": 19,
   "id": "426fdc30",
   "metadata": {},
   "outputs": [],
   "source": [
    "def linspace(x_min,x_max,steps=10):\n",
    "    step_size=(x_max-x_min)/steps\n",
    "    x=x_min\n",
    "    out = list()\n",
    "    for i in range(steps):\n",
    "        out.append(x)\n",
    "        x+=step_size\n",
    "    return out\n",
    "\n",
    "\n",
    "\n",
    "\n",
    "def histogram(x,n_bins=10,x_min=None,x_max=None):\n",
    "    ### BEGIN SOLUTION\n",
    "\n",
    "    # Fill in your solution here        \n",
    "    \n",
    "    bin_size = (len(x))/n_bins\n",
    "    if x_min==None:\n",
    "        x_min=min(x)\n",
    "    if x_max==None:\n",
    "        x_max=max(x)\n",
    "        \n",
    "    bin_edges = linspace(x_min,x_max,n_bins)\n",
    "    bin_edges.append(x_max)\n",
    "\n",
    "    hist = [0] * n_bins\n",
    "    \n",
    "    for j in range(len(x)):\n",
    "        for i,(low_edge,high_edge) in enumerate(zip(bin_edges[:-1],bin_edges[1:])):\n",
    "            if j>=low_edge and j<high_edge:\n",
    "                hist[i]+=1\n",
    "                break\n",
    "        #for i in range(len(hist)):\n",
    "            #if i>(x_min*bin_size) and i<((x_max+(i+1))*bin_size):\n",
    "                #hist.append(i)\n",
    "            \n",
    "    \n",
    "    \n",
    "    ### END SOLUTION\n",
    "\n",
    "    return hist,bin_edges"
   ]
  },
  {
   "cell_type": "code",
   "execution_count": 30,
   "id": "fd87cff2",
   "metadata": {},
   "outputs": [
    {
     "name": "stdout",
     "output_type": "stream",
     "text": [
      "[3, 3, 2, 0, 0, 0, 0, 0, 0, 0, 0, 0, 0, 0, 0, 0, 0, 0, 0, 0, 0, 0, 0, 0, 0, 0, 0, 0, 0, 0, 0, 0, 0, 0]\n"
     ]
    }
   ],
   "source": [
    "#h=histogram(Data,10,0,24.0)\n",
    "h,b=histogram(Data,34)\n",
    "print(h)"
   ]
  },
  {
   "cell_type": "markdown",
   "id": "35b5a69c",
   "metadata": {},
   "source": [
    "Exercise 4"
   ]
  },
  {
   "cell_type": "code",
   "execution_count": 31,
   "id": "e8624b81",
   "metadata": {},
   "outputs": [
    {
     "ename": "IndentationError",
     "evalue": "expected an indented block after 'for' statement on line 4 (3244786178.py, line 15)",
     "output_type": "error",
     "traceback": [
      "\u001b[0;36m  Input \u001b[0;32mIn [31]\u001b[0;36m\u001b[0m\n\u001b[0;31m    return hist,bin_edges\u001b[0m\n\u001b[0m    ^\u001b[0m\n\u001b[0;31mIndentationError\u001b[0m\u001b[0;31m:\u001b[0m expected an indented block after 'for' statement on line 4\n"
     ]
    }
   ],
   "source": [
    "def draw_histogram(x,n_bins,x_min=None,x_max=None,character=\"#\",max_character_per_line=20):\n",
    "    ### BEGIN SOLUTION\n",
    "\n",
    "    for i in range(0,n_bins):\n",
    "        \n",
    "    \n",
    "    ### END SOLUTION\n",
    "\n",
    "    return hist,bin_edges"
   ]
  },
  {
   "cell_type": "code",
   "execution_count": null,
   "id": "e906a2c7",
   "metadata": {},
   "outputs": [],
   "source": []
  },
  {
   "cell_type": "code",
   "execution_count": null,
   "id": "8a5b07df",
   "metadata": {},
   "outputs": [],
   "source": []
  },
  {
   "cell_type": "markdown",
   "id": "fa23806a",
   "metadata": {},
   "source": [
    "Excerise 5"
   ]
  },
  {
   "cell_type": "code",
   "execution_count": 62,
   "id": "815e5968",
   "metadata": {},
   "outputs": [],
   "source": [
    "\n",
    "            \n",
    "            \n",
    "def where(mylist,myfunc):\n",
    "    out= []\n",
    "    def bool_func(mylist):\n",
    "        bool_list= []\n",
    "        for i in mylist:\n",
    "            bool_var = False\n",
    "            if i>=0.5:\n",
    "                bool_var =True\n",
    "                bool_list.append(bool_var)\n",
    "            else:\n",
    "                bool_var = False\n",
    "                bool_list.append(bool_var)\n",
    "        return bool_list\n",
    "            \n",
    "    ### BEGIN SOLUTION\n",
    "    out = [i for i, val in enumerate(bool_func(mylist)) if val]\n",
    "\n",
    "    ### END SOLUTION\n",
    "    \n",
    "    return out"
   ]
  },
  {
   "cell_type": "code",
   "execution_count": 63,
   "id": "f1c75b03",
   "metadata": {},
   "outputs": [
    {
     "data": {
      "text/plain": [
       "[True, False, True, True, True, False, False]"
      ]
     },
     "execution_count": 63,
     "metadata": {},
     "output_type": "execute_result"
    }
   ],
   "source": [
    "list1=[0.5,0,98,34,5.6,0.1,0.4]\n",
    "bool_func(list1)"
   ]
  },
  {
   "cell_type": "code",
   "execution_count": 64,
   "id": "4a627340",
   "metadata": {},
   "outputs": [
    {
     "data": {
      "text/plain": [
       "[0, 2, 3, 4]"
      ]
     },
     "execution_count": 64,
     "metadata": {},
     "output_type": "execute_result"
    }
   ],
   "source": [
    "where(list1,bool_func)"
   ]
  },
  {
   "cell_type": "markdown",
   "id": "aca97e8c",
   "metadata": {},
   "source": [
    "Exercise 6"
   ]
  },
  {
   "cell_type": "code",
   "execution_count": null,
   "id": "c3d1e50e",
   "metadata": {},
   "outputs": [],
   "source": []
  },
  {
   "cell_type": "code",
   "execution_count": 81,
   "id": "d9551461",
   "metadata": {},
   "outputs": [
    {
     "name": "stdout",
     "output_type": "stream",
     "text": [
      "True False False True False\n",
      "True False False True False\n",
      "Number of Entries passing F1: 8\n",
      "Number of Entries passing F2: 8\n"
     ]
    }
   ],
   "source": [
    "def in_range(mymin,mymax):\n",
    "    def testrange(x):\n",
    "        return x<mymax and x>=mymin\n",
    "    return testrange\n",
    "\n",
    "# Examples:\n",
    "F1=in_range(0,10)\n",
    "F2=in_range(10,20)\n",
    "\n",
    "# Test of in_range\n",
    "print (F1(0), F1(1), F1(10), F1(15), F1(20))\n",
    "print (F2(0), F2(1), F2(10), F2(15), F2(20))\n",
    "\n",
    "print (\"Number of Entries passing F1:\", len(where(data,F1)))\n",
    "print (\"Number of Entries passing F2:\", len(where(data,F2)))"
   ]
  },
  {
   "cell_type": "code",
   "execution_count": 82,
   "id": "0bafe981",
   "metadata": {},
   "outputs": [],
   "source": [
    "def even(mymin,mymax):\n",
    "    def test_even(x):\n",
    "        return x %2==0\n",
    "    return test_even\n",
    "\n",
    "def odd(mymin,mymax):\n",
    "    def test_odd(x):\n",
    "        return x%3==0\n",
    "    return test_odd\n",
    "\n",
    "def greater(mymin,mymax,value):\n",
    "    def test_greater(x,value):\n",
    "        return x >= value\n",
    "    return test_greater\n",
    "\n",
    "def less(mymin,mymx,value):\n",
    "    def test_less(x,value):\n",
    "        return x < value\n",
    "    return test_less\n",
    "\n",
    "def equal(mymin,mymax,value):\n",
    "    def test_equal(x,value):\n",
    "        return x == value\n",
    "    return test_equal\n",
    "\n",
    "def divisible(mymin,mymax,value):\n",
    "    def test_dividend(x,value):\n",
    "        return x%value==0\n",
    "    return test_dividend\n"
   ]
  },
  {
   "cell_type": "code",
   "execution_count": null,
   "id": "b36be70b",
   "metadata": {},
   "outputs": [],
   "source": []
  },
  {
   "cell_type": "markdown",
   "id": "911139d6",
   "metadata": {},
   "source": [
    "Exercise 8 Monte Carlo"
   ]
  },
  {
   "cell_type": "code",
   "execution_count": 118,
   "id": "2cf81435",
   "metadata": {},
   "outputs": [],
   "source": [
    "def generate_function(func,x_min,x_max,N=1000):\n",
    "    out = []\n",
    "    unwanted= []\n",
    "    ### BEGIN SOLUTION\n",
    "    \n",
    "\n",
    "    for i in range(N):\n",
    "        x=random.random()\n",
    "        x1=func(x,a=1,b=2)\n",
    "        if x1 >=x_min and x1<= x_max:\n",
    "            out.append(x1)\n",
    "        else:\n",
    "            unwanted.append(x1)\n",
    "            \n",
    "    \n",
    "    ### END SOLUTION\n",
    "    \n",
    "    return out"
   ]
  },
  {
   "cell_type": "code",
   "execution_count": 120,
   "id": "c3d1c958",
   "metadata": {},
   "outputs": [
    {
     "name": "stdout",
     "output_type": "stream",
     "text": [
      "[2.9288883259175504, 2.205094699797798, 2.511846995584336, 2.2953615961199136, 2.5974394031032126, 2.852153703981336, 2.6358955586819226, 2.9844563900060592, 2.5832140857729344, 2.075183093796258]\n"
     ]
    }
   ],
   "source": [
    "def test_func(x,a=1,b=1):\n",
    "    return abs(a*x+b)\n",
    "data1=generate_function(test_func,-10,10,10)\n",
    "print(data1)"
   ]
  },
  {
   "cell_type": "code",
   "execution_count": null,
   "id": "9d8e3d0c",
   "metadata": {},
   "outputs": [],
   "source": []
  },
  {
   "cell_type": "code",
   "execution_count": 17,
   "id": "33ff2d90",
   "metadata": {},
   "outputs": [],
   "source": [
    "import math\n",
    "\n",
    "def generate_function(func,x_min,x_max,N=1000):\n",
    "    out = []\n",
    "    unwanted= []\n",
    "    ### BEGIN SOLUTION\n",
    "    \n",
    "\n",
    "    for i in range(N):\n",
    "        x=random.random()\n",
    "        x1=func(mean,Variance)\n",
    "        if x1 >=x_min and x1<= x_max:\n",
    "            out.append(x1)\n",
    "        else:\n",
    "            unwanted.append(x1)\n",
    "            \n",
    "    \n",
    "    ### END SOLUTION\n",
    "    \n",
    "    return out\n",
    "\n",
    "def gaussian(mean, Variance):\n",
    "    def f(x):\n",
    "        return math.exp(-((x-mean)**2)/(2*Variance**2))/math.sqrt(math.pi*Variance)\n",
    "    return f"
   ]
  },
  {
   "cell_type": "code",
   "execution_count": 18,
   "id": "d922672d",
   "metadata": {},
   "outputs": [
    {
     "ename": "TypeError",
     "evalue": "'>' not supported between instances of 'function' and 'int'",
     "output_type": "error",
     "traceback": [
      "\u001b[0;31m---------------------------------------------------------------------------\u001b[0m",
      "\u001b[0;31mTypeError\u001b[0m                                 Traceback (most recent call last)",
      "Input \u001b[0;32mIn [18]\u001b[0m, in \u001b[0;36m<module>\u001b[0;34m\u001b[0m\n\u001b[0;32m----> 1\u001b[0m data2\u001b[38;5;241m=\u001b[39m\u001b[43mgenerate_function\u001b[49m\u001b[43m(\u001b[49m\u001b[43mgaussian\u001b[49m\u001b[43m,\u001b[49m\u001b[38;5;241;43m-\u001b[39;49m\u001b[38;5;241;43m10\u001b[39;49m\u001b[43m,\u001b[49m\u001b[38;5;241;43m10\u001b[39;49m\u001b[43m,\u001b[49m\u001b[38;5;241;43m10\u001b[39;49m\u001b[43m)\u001b[49m\n\u001b[1;32m      2\u001b[0m \u001b[38;5;28mprint\u001b[39m(data2)\n",
      "Input \u001b[0;32mIn [17]\u001b[0m, in \u001b[0;36mgenerate_function\u001b[0;34m(func, x_min, x_max, N)\u001b[0m\n\u001b[1;32m     10\u001b[0m x\u001b[38;5;241m=\u001b[39mrandom\u001b[38;5;241m.\u001b[39mrandom()\n\u001b[1;32m     11\u001b[0m x1\u001b[38;5;241m=\u001b[39mfunc(mean,Variance)\n\u001b[0;32m---> 12\u001b[0m \u001b[38;5;28;01mif\u001b[39;00m \u001b[43mx1\u001b[49m\u001b[43m \u001b[49m\u001b[38;5;241;43m>\u001b[39;49m\u001b[43mx_min\u001b[49m \u001b[38;5;129;01mand\u001b[39;00m x1\u001b[38;5;241m<\u001b[39m\u001b[38;5;241m=\u001b[39m x_max:\n\u001b[1;32m     13\u001b[0m     out\u001b[38;5;241m.\u001b[39mappend(x1)\n\u001b[1;32m     14\u001b[0m \u001b[38;5;28;01melse\u001b[39;00m:\n",
      "\u001b[0;31mTypeError\u001b[0m: '>' not supported between instances of 'function' and 'int'"
     ]
    }
   ],
   "source": [
    "data2=generate_function(gaussian,-10,10,10)\n",
    "print(data2)"
   ]
  },
  {
   "cell_type": "code",
   "execution_count": null,
   "id": "9ee459fe",
   "metadata": {},
   "outputs": [],
   "source": []
  }
 ],
 "metadata": {
  "kernelspec": {
   "display_name": "Python 3 (ipykernel)",
   "language": "python",
   "name": "python3"
  },
  "language_info": {
   "codemirror_mode": {
    "name": "ipython",
    "version": 3
   },
   "file_extension": ".py",
   "mimetype": "text/x-python",
   "name": "python",
   "nbconvert_exporter": "python",
   "pygments_lexer": "ipython3",
   "version": "3.10.2"
  }
 },
 "nbformat": 4,
 "nbformat_minor": 5
}
