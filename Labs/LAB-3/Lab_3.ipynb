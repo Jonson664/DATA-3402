{
 "cells": [
  {
   "cell_type": "markdown",
   "id": "85826d65",
   "metadata": {},
   "source": [
    "Exercise 1"
   ]
  },
  {
   "cell_type": "code",
   "execution_count": 2,
   "id": "f154b2fb",
   "metadata": {},
   "outputs": [],
   "source": [
    "class counter:\n",
    "    def __init__(self,value):\n",
    "        self.value=value\n",
    "        self.counter=0\n",
    "        \n",
    "    def Next(self):\n",
    "        if self.counter < self.value:\n",
    "            self.counter+= 1\n",
    "            return self.counter\n",
    "        else:\n",
    "            print(\"Error: counter limit reached\")\n",
    "            return None\n",
    "    def reset(self):\n",
    "        self.counter = 0"
   ]
  },
  {
   "cell_type": "code",
   "execution_count": null,
   "id": "caa31f33",
   "metadata": {},
   "outputs": [],
   "source": []
  },
  {
   "cell_type": "markdown",
   "id": "4a4f4fdb",
   "metadata": {},
   "source": [
    "Exercise 2"
   ]
  },
  {
   "cell_type": "code",
   "execution_count": 13,
   "id": "52274fc8",
   "metadata": {},
   "outputs": [],
   "source": [
    "class counter:\n",
    "    def __init__(self,value):\n",
    "        self.__value=value\n",
    "        self.__counter=0\n",
    "        \n",
    "    def Next(self):\n",
    "        if self.counter < self.value:\n",
    "            self.__counter+= 1\n",
    "            return self.__counter\n",
    "        else:\n",
    "            print(\"Error: counter limit reached\")\n",
    "            return None\n",
    "    \n",
    "    def access_counter(self):\n",
    "        return self.__counter\n",
    "    def access_value(self):\n",
    "        return self.__value\n",
    "    \n",
    "    def check_counter(self):\n",
    "        return self.__counter == self.__value\n",
    "    \n",
    "    def reset(self):\n",
    "        self.counter = 0"
   ]
  },
  {
   "cell_type": "code",
   "execution_count": null,
   "id": "d74a537e",
   "metadata": {},
   "outputs": [],
   "source": []
  },
  {
   "cell_type": "markdown",
   "id": "79f45ddd",
   "metadata": {},
   "source": [
    "Exercise 3"
   ]
  },
  {
   "cell_type": "code",
   "execution_count": 5,
   "id": "9995e59c",
   "metadata": {},
   "outputs": [],
   "source": [
    "class rectangle:\n",
    "    def __init__(self,length,width,x,y):\n",
    "        self.__length = length\n",
    "        self.__width = width\n",
    "        self.__x = x\n",
    "        self.__y = y\n",
    "    \n",
    "    def Area(self):\n",
    "        return self.__length*self.__width\n",
    "    def Perimeter(self):\n",
    "        return 2*(self.__length+self.__width)\n",
    "    \n",
    "    def access_length(self):\n",
    "        return self.__length\n",
    "    def access_width(self):\n",
    "        return self.__width\n",
    "    def access_coordinates(self):\n",
    "        return (self.__x,self.__y)"
   ]
  },
  {
   "cell_type": "markdown",
   "id": "ceb8bd56",
   "metadata": {},
   "source": [
    "Exercise 4"
   ]
  },
  {
   "cell_type": "code",
   "execution_count": 8,
   "id": "6b19902d",
   "metadata": {},
   "outputs": [],
   "source": [
    "import math"
   ]
  },
  {
   "cell_type": "code",
   "execution_count": 12,
   "id": "095f8204",
   "metadata": {},
   "outputs": [],
   "source": [
    "class circle:\n",
    "    def __init__(self,radius,x,y):\n",
    "        self.__radius = radius\n",
    "        self.__x = x\n",
    "        self.__y =y\n",
    "        \n",
    "    def area(self):\n",
    "        return math.pi*(radius**2)\n",
    "    def perimeter(self):\n",
    "        return 2*math.pi*radius\n",
    "    \n",
    "    def access_radius(self):\n",
    "        return self.__radius\n",
    "    def access_center(self):\n",
    "        return (self.__x,self.__y)"
   ]
  },
  {
   "cell_type": "code",
   "execution_count": null,
   "id": "d2605bc8",
   "metadata": {},
   "outputs": [],
   "source": []
  },
  {
   "cell_type": "markdown",
   "id": "9d30fd00",
   "metadata": {},
   "source": [
    "Exercise 5"
   ]
  },
  {
   "cell_type": "code",
   "execution_count": null,
   "id": "3f4d407e",
   "metadata": {},
   "outputs": [],
   "source": []
  }
 ],
 "metadata": {
  "kernelspec": {
   "display_name": "Python 3 (ipykernel)",
   "language": "python",
   "name": "python3"
  },
  "language_info": {
   "codemirror_mode": {
    "name": "ipython",
    "version": 3
   },
   "file_extension": ".py",
   "mimetype": "text/x-python",
   "name": "python",
   "nbconvert_exporter": "python",
   "pygments_lexer": "ipython3",
   "version": "3.10.2"
  }
 },
 "nbformat": 4,
 "nbformat_minor": 5
}
