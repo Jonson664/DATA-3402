{
 "cells": [
  {
   "cell_type": "markdown",
   "id": "85826d65",
   "metadata": {},
   "source": [
    "Exercise 1"
   ]
  },
  {
   "cell_type": "code",
   "execution_count": 2,
   "id": "f154b2fb",
   "metadata": {},
   "outputs": [],
   "source": [
    "class counter:\n",
    "    def __init__(self,value):\n",
    "        self.value=value\n",
    "        self.counter=0\n",
    "        \n",
    "    def Next(self):\n",
    "        if self.counter < self.value:\n",
    "            self.counter+= 1\n",
    "            return self.counter\n",
    "        else:\n",
    "            print(\"Error: counter limit reached\")\n",
    "            return None\n",
    "    def reset(self):\n",
    "        self.counter = 0"
   ]
  },
  {
   "cell_type": "code",
   "execution_count": null,
   "id": "caa31f33",
   "metadata": {},
   "outputs": [],
   "source": []
  },
  {
   "cell_type": "markdown",
   "id": "4a4f4fdb",
   "metadata": {},
   "source": [
    "Exercise 2"
   ]
  },
  {
   "cell_type": "code",
   "execution_count": 13,
   "id": "52274fc8",
   "metadata": {},
   "outputs": [],
   "source": [
    "class counter:\n",
    "    def __init__(self,value):\n",
    "        self.__value=value\n",
    "        self.__counter=0\n",
    "        \n",
    "    def Next(self):\n",
    "        if self.counter < self.value:\n",
    "            self.__counter+= 1\n",
    "            return self.__counter\n",
    "        else:\n",
    "            print(\"Error: counter limit reached\")\n",
    "            return None\n",
    "    \n",
    "    def access_counter(self):\n",
    "        return self.__counter\n",
    "    def access_value(self):\n",
    "        return self.__value\n",
    "    \n",
    "    def check_counter(self):\n",
    "        return self.__counter == self.__value\n",
    "    \n",
    "    def reset(self):\n",
    "        self.counter = 0"
   ]
  },
  {
   "cell_type": "code",
   "execution_count": null,
   "id": "d74a537e",
   "metadata": {},
   "outputs": [],
   "source": []
  },
  {
   "cell_type": "markdown",
   "id": "79f45ddd",
   "metadata": {},
   "source": [
    "Exercise 3"
   ]
  },
  {
   "cell_type": "code",
   "execution_count": 5,
   "id": "9995e59c",
   "metadata": {},
   "outputs": [],
   "source": [
    "class rectangle:\n",
    "    def __init__(self,length,width,x,y):\n",
    "        self.__length = length\n",
    "        self.__width = width\n",
    "        self.__x = x\n",
    "        self.__y = y\n",
    "    \n",
    "    def Area(self):\n",
    "        return self.__length*self.__width\n",
    "    def Perimeter(self):\n",
    "        return 2*(self.__length+self.__width)\n",
    "    \n",
    "    def access_length(self):\n",
    "        return self.__length\n",
    "    def access_width(self):\n",
    "        return self.__width\n",
    "    def access_coordinates(self):\n",
    "        return (self.__x,self.__y)"
   ]
  },
  {
   "cell_type": "markdown",
   "id": "ceb8bd56",
   "metadata": {},
   "source": [
    "Exercise 4"
   ]
  },
  {
   "cell_type": "code",
   "execution_count": 5,
   "id": "6b19902d",
   "metadata": {},
   "outputs": [],
   "source": [
    "import math"
   ]
  },
  {
   "cell_type": "code",
   "execution_count": 12,
   "id": "095f8204",
   "metadata": {},
   "outputs": [],
   "source": [
    "class circle:\n",
    "    def __init__(self,radius,x,y):\n",
    "        self.__radius = radius\n",
    "        self.__x = x\n",
    "        self.__y =y\n",
    "        \n",
    "    def area(self):\n",
    "        return math.pi*(radius**2)\n",
    "    def perimeter(self):\n",
    "        return 2*math.pi*radius\n",
    "    \n",
    "    def access_radius(self):\n",
    "        return self.__radius\n",
    "    def access_center(self):\n",
    "        return (self.__x,self.__y)"
   ]
  },
  {
   "cell_type": "code",
   "execution_count": null,
   "id": "d2605bc8",
   "metadata": {},
   "outputs": [],
   "source": []
  },
  {
   "cell_type": "markdown",
   "id": "9d30fd00",
   "metadata": {},
   "source": [
    "Exercise 5"
   ]
  },
  {
   "cell_type": "code",
   "execution_count": 3,
   "id": "3f4d407e",
   "metadata": {},
   "outputs": [],
   "source": [
    "class shape:\n",
    "    def __intit__(self,x,y):\n",
    "        self.__x = x\n",
    "        self.__y = y\n",
    "        \n",
    "    def access_coords(self):\n",
    "        return (self.__x,self.__y)\n",
    "        \n",
    "        \n",
    "class rectangle(shape):\n",
    "    def __init__(self,x,y,length,width):\n",
    "        super(rectangle,self).__init__(x,y)\n",
    "        self.__length = length\n",
    "        self.__width = width\n",
    "    \n",
    "    def Area(self):\n",
    "        return self.__length*self.__width\n",
    "    def Perimeter(self):\n",
    "        return 2*(self.__length+self.__width)\n",
    "    \n",
    "    def access_length(self):\n",
    "        return self.__length\n",
    "    def access_width(self):\n",
    "        return self.__width\n",
    "    def access_coordinates(self):\n",
    "        return (self.__x,self.__y)\n",
    "    \n",
    "    \n",
    "class circle(shape):\n",
    "    def __init__(self,x,y,radius):\n",
    "        super(circle,self).__init__(x,y)\n",
    "        self.__radius = radius\n",
    "        \n",
    "        \n",
    "    def area(self):\n",
    "        return math.pi*(radius**2)\n",
    "    def perimeter(self):\n",
    "        return 2*math.pi*radius\n",
    "    \n",
    "    def access_radius(self):\n",
    "        return self.__radius\n",
    "    def access_center(self):\n",
    "        return (self.__x,self.__y)"
   ]
  },
  {
   "cell_type": "code",
   "execution_count": null,
   "id": "d30b87dd",
   "metadata": {},
   "outputs": [],
   "source": []
  },
  {
   "cell_type": "markdown",
   "id": "3914d351",
   "metadata": {},
   "source": [
    "Exercise 6"
   ]
  },
  {
   "cell_type": "code",
   "execution_count": 2,
   "id": "d62567e5",
   "metadata": {},
   "outputs": [],
   "source": [
    "class triangle(shape):\n",
    "    def __init__(self,x,y,x2,y2,x3,y3,side_length,base_length):\n",
    "        super(triangle,self).__init__(x,y)\n",
    "        #self.__side_length = side_length\n",
    "        #self.__base_lenght= base_length\n",
    "        self.__x = x\n",
    "        self.__y = y\n",
    "        self.__x2 = x2\n",
    "        self.__y2 = y2\n",
    "        self.__x3 = x3\n",
    "        self.__y3 = y3\n",
    "    def area(self):\n",
    "        return .5*((self.__x2-self.__x)*(self.__y3-self.__y))"
   ]
  },
  {
   "cell_type": "code",
   "execution_count": null,
   "id": "9829f7d3",
   "metadata": {},
   "outputs": [],
   "source": []
  },
  {
   "cell_type": "markdown",
   "id": "1810c169",
   "metadata": {},
   "source": [
    "Exercise 7"
   ]
  },
  {
   "cell_type": "code",
   "execution_count": 11,
   "id": "33b6dd2c",
   "metadata": {},
   "outputs": [],
   "source": [
    "#class Position_test:\n",
    "    #def __inti__(self,x,y):\n",
    "        #self.__x = x\n",
    "        #self.__y = y\n",
    "class circle(shape):\n",
    "    def __init__(self,x,y,radius):\n",
    "        super(circle,self).__init__(x,y)\n",
    "        self.__radius = radius\n",
    "        \n",
    "        \n",
    "    def area(self):\n",
    "        return math.pi*(radius**2)\n",
    "    def perimeter(self):\n",
    "        return 2*math.pi*radius\n",
    "    \n",
    "    def access_radius(self):\n",
    "        return self.__radius\n",
    "    def access_center(self):\n",
    "        return (self.__x,self.__y)\n",
    "    \n",
    "    def inside_test(self,coordinate):\n",
    "        if ( (coordinate[0]-(self.__x,self.__y)[0])*(coordinate[0]-(self.__x,self.__y)[0]) + \n",
    "        (coordinate[1]-(self.__x,self.__y)[1])*(coordinate[1]-(self.__x,self.__y)[1]) ) <= self.__radius * (self.__x,self.__y):\n",
    "            return True\n",
    "        else:\n",
    "            return False     \n",
    "        \n",
    "        \n",
    "class rectangle(shape):\n",
    "    def __init__(self,x,y,length,width):\n",
    "        super(rectangle,self).__init__(x,y)\n",
    "        self.__length = length\n",
    "        self.__width = width\n",
    "    \n",
    "    def Area(self):\n",
    "        return self.__length*self.__width\n",
    "    def Perimeter(self):\n",
    "        return 2*(self.__length+self.__width)\n",
    "    \n",
    "    def access_length(self):\n",
    "        return self.__length\n",
    "    def access_width(self):\n",
    "        return self.__width\n",
    "    def access_coordinates(self):\n",
    "        return (self.__x,self.__y)\n",
    "    \n",
    "    def inside_test(self,coordinate):\n",
    "        if coordinate[0] <= (self.__x,self.__y)[0]: \n",
    "            return False\n",
    "        elif coordinate[0] >= ((self.__x,self.__y)[0]+length):\n",
    "            return False\n",
    "        elif coordinate[1] <= (self.__x,self.__y)[1]:\n",
    "            return False\n",
    "        elif coordiante[1] >= ((self.__x,self.__y)[1]+width):\n",
    "            return False\n",
    "        else:\n",
    "            return True\n",
    "            \n",
    "        \n",
    "class triangle(shape):\n",
    "    def __init__(self,x,y,x2,y2,x3,y3,side_length,base_length):\n",
    "        super(triangle,self).__init__(x,y)\n",
    "        #self.__side_length = side_length\n",
    "        #self.__base_lenght= base_length\n",
    "        self.__x = x\n",
    "        self.__y = y\n",
    "        self.__x2 = x2\n",
    "        self.__y2 = y2\n",
    "        self.__x3 = x3\n",
    "        self.__y3 = y3\n",
    "        \n",
    "        \n",
    "        \n",
    "    def area(self):\n",
    "        return .5*((self.__x2-self.__x)*(self.__y3-self.__y))     \n",
    "        \n",
    "        \n",
    "        \n",
    "    def inside_test(self,coordinate):\n",
    "        if coordinate[0] !>= self.__x or coordinate[0] !>= self.__x2 or coordinate[0] !>= self.__x3:\n",
    "            return False\n",
    "        elif coordinate[1] !>= self.__y or coordinate[1] !>= self.__y2 or coordinate[1] !>= self.__y3:\n",
    "            return False\n",
    "        else:\n",
    "            return True\n",
    "\n",
    "        \n",
    "        "
   ]
  },
  {
   "cell_type": "code",
   "execution_count": null,
   "id": "3f800e7f",
   "metadata": {},
   "outputs": [],
   "source": []
  },
  {
   "cell_type": "markdown",
   "id": "ef82ff44",
   "metadata": {},
   "source": [
    "exercise 8"
   ]
  },
  {
   "cell_type": "code",
   "execution_count": 6,
   "id": "6b1fd165",
   "metadata": {},
   "outputs": [],
   "source": [
    "class circle(shape):\n",
    "    def __init__(self,x,y,radius):\n",
    "        super(circle,self).__init__(x,y)\n",
    "        self.__radius = radius\n",
    "        \n",
    "        \n",
    "    def area(self):\n",
    "        return math.pi*(radius**2)\n",
    "    def perimeter(self):\n",
    "        return 2*math.pi*radius\n",
    "    \n",
    "    def access_radius(self):\n",
    "        return self.__radius\n",
    "    def access_center(self):\n",
    "        return (self.__x,self.__y)\n",
    "    \n",
    "    def inside_test(self,coordinate):\n",
    "        if ( (coordinate[0]-(self.__x,self.__y)[0])*(coordinate[0]-(self.__x,self.__y)[0]) + \n",
    "        (coordinate[1]-(self.__x,self.__y)[1])*(coordinate[1]-(self.__x,self.__y)[1]) ) <= self.__radius * (self.__x,self.__y)\n",
    "            return True\n",
    "        else:\n",
    "            return False\n",
    "        \n",
    "        \n",
    "        \n",
    "        \n",
    "        \n",
    "        "
   ]
  },
  {
   "cell_type": "markdown",
   "id": "213d7025",
   "metadata": {},
   "source": [
    "Exercise 9"
   ]
  },
  {
   "cell_type": "code",
   "execution_count": null,
   "id": "a44a1d96",
   "metadata": {},
   "outputs": [],
   "source": [
    "class shape:\n",
    "    def __intit__(self,x,y):\n",
    "        self.__x = x\n",
    "        self.__y = y\n",
    "        \n",
    "    def access_coords(self):\n",
    "        return (self.__x,self.__y)\n",
    "    \n",
    "    def test_overlap(self,second_obj):\n",
    "        pairs1 = self.coords()\n",
    "        paris2 = second_obj.coords()\n",
    "        for i in range(len(pairs1)):\n",
    "            if second_obj.inside_test(pairs1[i]):\n",
    "                return True\n",
    "            else:\n",
    "                return False\n",
    "        for i in range(len(pairs2)):\n",
    "            if self.inside_test(pairs2[i]):\n",
    "                return True\n",
    "            else:\n",
    "                return False"
   ]
  },
  {
   "cell_type": "code",
   "execution_count": null,
   "id": "0e893ac4",
   "metadata": {},
   "outputs": [],
   "source": []
  },
  {
   "cell_type": "code",
   "execution_count": null,
   "id": "8576b9a1",
   "metadata": {},
   "outputs": [],
   "source": []
  }
 ],
 "metadata": {
  "kernelspec": {
   "display_name": "Python 3 (ipykernel)",
   "language": "python",
   "name": "python3"
  },
  "language_info": {
   "codemirror_mode": {
    "name": "ipython",
    "version": 3
   },
   "file_extension": ".py",
   "mimetype": "text/x-python",
   "name": "python",
   "nbconvert_exporter": "python",
   "pygments_lexer": "ipython3",
   "version": "3.10.2"
  }
 },
 "nbformat": 4,
 "nbformat_minor": 5
}
